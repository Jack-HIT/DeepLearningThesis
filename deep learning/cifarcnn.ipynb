{
 "cells": [
  {
   "cell_type": "code",
   "execution_count": 1,
   "metadata": {},
   "outputs": [
    {
     "name": "stderr",
     "output_type": "stream",
     "text": [
      "/usr/local/lib/python3.5/dist-packages/h5py/__init__.py:36: FutureWarning: Conversion of the second argument of issubdtype from `float` to `np.floating` is deprecated. In future, it will be treated as `np.float64 == np.dtype(float).type`.\n",
      "  from ._conv import register_converters as _register_converters\n",
      "Using TensorFlow backend.\n"
     ]
    }
   ],
   "source": [
    "from keras.datasets import cifar10\n",
    "import keras\n",
    "import cv2\n",
    "import matplotlib.pyplot as plt\n",
    "from keras.models import Model  \n",
    "%matplotlib inline\n",
    "from keras.models import Sequential,load_model\n",
    "from keras.layers import Dense,Conv2D,Activation,BatchNormalization,MaxPool2D,Flatten,Input,ZeroPadding2D,MaxPooling2D,concatenate,AveragePooling2D,Dropout,GlobalAveragePooling2D\n",
    "from keras.utils import to_categorical\n",
    "from keras.optimizers import SGD\n",
    "import keras.callbacks as kcallbacks"
   ]
  },
  {
   "cell_type": "code",
   "execution_count": 2,
   "metadata": {},
   "outputs": [
    {
     "name": "stdout",
     "output_type": "stream",
     "text": [
      "(50000, 32, 32, 3)\n",
      "(50000, 1)\n",
      "(10000, 32, 32, 3)\n",
      "(10000, 1)\n"
     ]
    }
   ],
   "source": [
    "(X_train, y_train), (X_test, y_test) = cifar10.load_data()\n",
    "print(X_train.shape)\n",
    "print(y_train.shape)\n",
    "print(X_test.shape)\n",
    "print(y_test.shape)"
   ]
  },
  {
   "cell_type": "code",
   "execution_count": 3,
   "metadata": {},
   "outputs": [
    {
     "data": {
      "text/plain": [
       "<matplotlib.image.AxesImage at 0x7f4b5b703780>"
      ]
     },
     "execution_count": 3,
     "metadata": {},
     "output_type": "execute_result"
    },
    {
     "data": {
      "image/png": "[encoded data removed]",
      "text/plain": [
       "<Figure size 432x288 with 1 Axes>"
      ]
     },
     "metadata": {},
     "output_type": "display_data"
    }
   ],
   "source": [
    "# 可以随机选择一个将图片数据可视化\n",
    "img=X_train[19]\n",
    "plt.imshow(img)"
   ]
  },
  {
   "cell_type": "code",
   "execution_count": 4,
   "metadata": {},
   "outputs": [
    {
     "name": "stdout",
     "output_type": "stream",
     "text": [
      "(50000, 10)\n",
      "(10000, 10)\n",
      "(50000, 32, 32, 3)\n",
      "(10000, 32, 32, 3)\n"
     ]
    }
   ],
   "source": [
    "# 将y数据处理成one-hot编码的数据\n",
    "y_train=to_categorical(y_train,num_classes=10)\n",
    "y_test=to_categorical(y_test,num_classes=10)\n",
    "print(y_train.shape)\n",
    "print(y_test.shape)\n",
    "# 将X数据进行归一化，方便训练的时候算法收敛\n",
    "X_train = X_train.astype('float32')\n",
    "X_test = X_test.astype('float32')\n",
    "X_train=X_train/255\n",
    "X_test=X_test/255\n",
    "print(X_train.shape)\n",
    "print(X_test.shape)"
   ]
  },
  {
   "cell_type": "code",
   "execution_count": 5,
   "metadata": {
    "collapsed": true
   },
   "outputs": [],
   "source": [
    "# 定义一些初始化的变量\n",
    "INPUT_SHAPE=(32,32,3)\n",
    "NUM_CLASS=10\n",
    "BATCHSIZE=128\n",
    "EPOCHS=100\n",
    "SAVEPATH='./'"
   ]
  },
  {
   "cell_type": "code",
   "execution_count": 6,
   "metadata": {
    "collapsed": true
   },
   "outputs": [],
   "source": [
    "def lexnet(input_shape,num_class,batchsize,epochs,savepath='./cifar10_lexnet_model.hdf5'):\n",
    "    # create model\n",
    "    model=Sequential()\n",
    "    model.add(Conv2D(filters=6, kernel_size=(5,5), padding='valid', input_shape=input_shape, activation='tanh'))\n",
    "    model.add(MaxPool2D(pool_size=(2,2)))\n",
    "    model.add(Conv2D(filters=16, kernel_size=(5,5), padding='valid', activation='tanh'))\n",
    "    model.add(MaxPool2D(pool_size=(2,2)))\n",
    "    model.add(Flatten())\n",
    "    #下面就是全连接层了\n",
    "    model.add(Dense(120, activation='tanh'))\n",
    "    model.add(Dense(84, activation='tanh'))\n",
    "    model.add(Dense(num_class, activation='softmax'))\n",
    "    #定义一下优化的方法\n",
    "    opt = keras.optimizers.Adam(lr=0.001, beta_1=0.9, beta_2=0.999, epsilon=1e-08)\n",
    "    #compile model\n",
    "    #使用交叉熵(cross entropy)作为损失函数\n",
    "    model.compile(\n",
    "    loss='categorical_crossentropy',\n",
    "    optimizer=opt,\n",
    "    metrics=['accuracy']\n",
    "    )\n",
    "    #train model\n",
    "    earlyStopping=kcallbacks.EarlyStopping(monitor='val_acc', patience=2, verbose=1, mode='auto')\n",
    "    saveBestModel = kcallbacks.ModelCheckpoint(filepath=savepath, monitor='val_acc', verbose=1, save_best_only=True, mode='auto')\n",
    "    model.fit(X_train,y_train,batch_size=batchsize,epochs=epochs,verbose=1,\n",
    "              validation_data=(X_test,y_test),shuffle=True,callbacks=[earlyStopping,saveBestModel])\n",
    "   #reload model\n",
    "    model=load_model(savepath)\n",
    "    return model"
   ]
  },
  {
   "cell_type": "code",
   "execution_count": 7,
   "metadata": {},
   "outputs": [
    {
     "name": "stdout",
     "output_type": "stream",
     "text": [
      "Train on 50000 samples, validate on 10000 samples\n",
      "Epoch 1/100\n",
      "50000/50000 [==============================] - 3s 66us/step - loss: 1.6341 - acc: 0.4130 - val_loss: 1.4705 - val_acc: 0.4809\n",
      "\n",
      "Epoch 00001: val_acc improved from -inf to 0.48090, saving model to ./cifar10_lexnet_model.hdf5\n",
      "Epoch 2/100\n",
      "50000/50000 [==============================] - 2s 48us/step - loss: 1.3711 - acc: 0.5122 - val_loss: 1.4181 - val_acc: 0.4953\n",
      "\n",
      "Epoch 00002: val_acc improved from 0.48090 to 0.49530, saving model to ./cifar10_lexnet_model.hdf5\n",
      "Epoch 3/100\n",
      "50000/50000 [==============================] - 2s 48us/step - loss: 1.2805 - acc: 0.5445 - val_loss: 1.2533 - val_acc: 0.5574\n",
      "\n",
      "Epoch 00003: val_acc improved from 0.49530 to 0.55740, saving model to ./cifar10_lexnet_model.hdf5\n",
      "Epoch 4/100\n",
      "50000/50000 [==============================] - 2s 50us/step - loss: 1.2083 - acc: 0.5727 - val_loss: 1.2015 - val_acc: 0.5803\n",
      "\n",
      "Epoch 00004: val_acc improved from 0.55740 to 0.58030, saving model to ./cifar10_lexnet_model.hdf5\n",
      "Epoch 5/100\n",
      "50000/50000 [==============================] - 2s 48us/step - loss: 1.1580 - acc: 0.5927 - val_loss: 1.1652 - val_acc: 0.5889\n",
      "\n",
      "Epoch 00005: val_acc improved from 0.58030 to 0.58890, saving model to ./cifar10_lexnet_model.hdf5\n",
      "Epoch 6/100\n",
      "50000/50000 [==============================] - 2s 49us/step - loss: 1.1161 - acc: 0.6057 - val_loss: 1.1412 - val_acc: 0.5968\n",
      "\n",
      "Epoch 00006: val_acc improved from 0.58890 to 0.59680, saving model to ./cifar10_lexnet_model.hdf5\n",
      "Epoch 7/100\n",
      "50000/50000 [==============================] - 2s 50us/step - loss: 1.0711 - acc: 0.6244 - val_loss: 1.1346 - val_acc: 0.5976\n",
      "\n",
      "Epoch 00007: val_acc improved from 0.59680 to 0.59760, saving model to ./cifar10_lexnet_model.hdf5\n",
      "Epoch 8/100\n",
      "50000/50000 [==============================] - 2s 48us/step - loss: 1.0311 - acc: 0.6367 - val_loss: 1.1104 - val_acc: 0.6131\n",
      "\n",
      "Epoch 00008: val_acc improved from 0.59760 to 0.61310, saving model to ./cifar10_lexnet_model.hdf5\n",
      "Epoch 9/100\n",
      "50000/50000 [==============================] - 2s 47us/step - loss: 0.9985 - acc: 0.6505 - val_loss: 1.1229 - val_acc: 0.6104\n",
      "\n",
      "Epoch 00009: val_acc did not improve\n",
      "Epoch 10/100\n",
      "50000/50000 [==============================] - 3s 50us/step - loss: 0.9658 - acc: 0.6608 - val_loss: 1.0715 - val_acc: 0.6236\n",
      "\n",
      "Epoch 00010: val_acc improved from 0.61310 to 0.62360, saving model to ./cifar10_lexnet_model.hdf5\n",
      "Epoch 11/100\n",
      "50000/50000 [==============================] - 3s 51us/step - loss: 0.9357 - acc: 0.6723 - val_loss: 1.0492 - val_acc: 0.6377\n",
      "\n",
      "Epoch 00011: val_acc improved from 0.62360 to 0.63770, saving model to ./cifar10_lexnet_model.hdf5\n",
      "Epoch 12/100\n",
      "50000/50000 [==============================] - 2s 49us/step - loss: 0.9110 - acc: 0.6822 - val_loss: 1.0781 - val_acc: 0.6264\n",
      "\n",
      "Epoch 00012: val_acc did not improve\n",
      "Epoch 13/100\n",
      "50000/50000 [==============================] - 3s 51us/step - loss: 0.8801 - acc: 0.6936 - val_loss: 1.0518 - val_acc: 0.6371\n",
      "\n",
      "Epoch 00013: val_acc did not improve\n",
      "Epoch 00013: early stopping\n"
     ]
    }
   ],
   "source": [
    "lexnet_model=lexnet(INPUT_SHAPE,NUM_CLASS,BATCHSIZE,EPOCHS)"
   ]
  },
  {
   "cell_type": "code",
   "execution_count": 8,
   "metadata": {},
   "outputs": [
    {
     "name": "stdout",
     "output_type": "stream",
     "text": [
      "_________________________________________________________________\n",
      "Layer (type)                 Output Shape              Param #   \n",
      "=================================================================\n",
      "conv2d_1 (Conv2D)            (None, 28, 28, 6)         456       \n",
      "_________________________________________________________________\n",
      "max_pooling2d_1 (MaxPooling2 (None, 14, 14, 6)         0         \n",
      "_________________________________________________________________\n",
      "conv2d_2 (Conv2D)            (None, 10, 10, 16)        2416      \n",
      "_________________________________________________________________\n",
      "max_pooling2d_2 (MaxPooling2 (None, 5, 5, 16)          0         \n",
      "_________________________________________________________________\n",
      "flatten_1 (Flatten)          (None, 400)               0         \n",
      "_________________________________________________________________\n",
      "dense_1 (Dense)              (None, 120)               48120     \n",
      "_________________________________________________________________\n",
      "dense_2 (Dense)              (None, 84)                10164     \n",
      "_________________________________________________________________\n",
      "dense_3 (Dense)              (None, 10)                850       \n",
      "=================================================================\n",
      "Total params: 62,006\n",
      "Trainable params: 62,006\n",
      "Non-trainable params: 0\n",
      "_________________________________________________________________\n",
      "10000/10000 [==============================] - 1s 50us/step\n",
      "lexnet的评估结果是\n",
      "Total loss on Testing Set: 1.0492245069503785\n",
      "Accuracy of Testing Set: 0.6377\n"
     ]
    }
   ],
   "source": [
    "lexnet_model.summary()\n",
    "score=lexnet_model.evaluate(X_test,y_test)\n",
    "print('lexnet的评估结果是')\n",
    "print(\"Total loss on Testing Set:\", score[0])\n",
    "print(\"Accuracy of Testing Set:\", score[1])"
   ]
  },
  {
   "cell_type": "code",
   "execution_count": 9,
   "metadata": {},
   "outputs": [
    {
     "name": "stdout",
     "output_type": "stream",
     "text": [
      "预测的结果是： 3\n",
      "真实的结果是： 3\n"
     ]
    },
    {
     "data": {
      "text/plain": [
       "<matplotlib.image.AxesImage at 0x7f4b2ff42cc0>"
      ]
     },
     "execution_count": 9,
     "metadata": {},
     "output_type": "execute_result"
    },
    {
     "data": {
      "image/png": "[encoded data removed]",
      "text/plain": [
       "<Figure size 432x288 with 1 Axes>"
      ]
     },
     "metadata": {},
     "output_type": "display_data"
    }
   ],
   "source": [
    "lexnet_model=load_model('./cifar10_lexnet_model.hdf5')\n",
    "X_test_t=X_test[8].reshape((-1,32,32,3))\n",
    "y_hat=lexnet_model.predict(X_test_t).argmax()\n",
    "print('预测的结果是：',y_hat)\n",
    "print('真实的结果是：',y_test[8].argmax())\n",
    "plt.imshow(X_test[2])"
   ]
  },
  {
   "cell_type": "code",
   "execution_count": 10,
   "metadata": {
    "collapsed": true
   },
   "outputs": [],
   "source": [
    "def alexnet(input_shape,num_class,batchsize,epochs,savepath=SAVEPATH+'cifar10_alexnet_model.hdf5'):\n",
    "    model = Sequential()  \n",
    "    model.add(Conv2D(96,(11,11),strides=(4,4),input_shape=input_shape,padding='valid',activation='relu',kernel_initializer='uniform'))  \n",
    "    model.add(MaxPooling2D(pool_size=(3,3),strides=(2,2)))  \n",
    "    model.add(Conv2D(256,(5,5),strides=(1,1),padding='same',activation='relu',kernel_initializer='uniform'))  \n",
    "    model.add(MaxPooling2D(pool_size=(3,3),strides=(2,2)))  \n",
    "    model.add(Conv2D(384,(3,3),strides=(1,1),padding='same',activation='relu',kernel_initializer='uniform'))  \n",
    "    model.add(Conv2D(384,(3,3),strides=(1,1),padding='same',activation='relu',kernel_initializer='uniform'))  \n",
    "    model.add(Conv2D(256,(3,3),strides=(1,1),padding='same',activation='relu',kernel_initializer='uniform'))  \n",
    "    model.add(MaxPooling2D(pool_size=(3,3),strides=(2,2)))  \n",
    "    model.add(Flatten())  \n",
    "    model.add(Dense(4096,activation='relu'))  \n",
    "    model.add(Dropout(0.5))  \n",
    "    model.add(Dense(4096,activation='relu'))  \n",
    "    model.add(Dropout(0.5))  \n",
    "    model.add(Dense(num_class,activation='softmax'))  \n",
    "    #定义一下优化的方法\n",
    "    opt = keras.optimizers.Adam(lr=0.001, beta_1=0.9, beta_2=0.999, epsilon=1e-08)\n",
    "    #compile一下模型\n",
    "    model.compile(loss='categorical_crossentropy',optimizer=opt,metrics=['accuracy'])  \n",
    "    #train model\n",
    "    earlyStopping=kcallbacks.EarlyStopping(monitor='val_loss', patience=2, verbose=1, mode='auto')\n",
    "    saveBestModel = kcallbacks.ModelCheckpoint(filepath=savepath, monitor='val_loss', verbose=1, save_best_only=True, mode='auto')\n",
    "    model.fit(X_train,y_train,batch_size=batchsize,epochs=epochs,verbose=1,\n",
    "              validation_data=(X_test,y_test),shuffle=True,callbacks=[earlyStopping,saveBestModel])\n",
    "    #reload model\n",
    "    model=load_model(savepath)\n",
    "    return model"
   ]
  },
  {
   "cell_type": "code",
   "execution_count": 11,
   "metadata": {},
   "outputs": [
    {
     "name": "stdout",
     "output_type": "stream",
     "text": [
      "Train on 50000 samples, validate on 10000 samples\n",
      "Epoch 1/100\n",
      "50000/50000 [==============================] - 3s 53us/step - loss: 1.6179 - acc: 0.4204 - val_loss: 1.4141 - val_acc: 0.4915\n",
      "\n",
      "Epoch 00001: val_acc improved from -inf to 0.49150, saving model to ./cifar10_lexnet_model.hdf5\n",
      "Epoch 2/100\n",
      "50000/50000 [==============================] - 2s 49us/step - loss: 1.3499 - acc: 0.5197 - val_loss: 1.3080 - val_acc: 0.5343\n",
      "\n",
      "Epoch 00002: val_acc improved from 0.49150 to 0.53430, saving model to ./cifar10_lexnet_model.hdf5\n",
      "Epoch 3/100\n",
      "50000/50000 [==============================] - 3s 51us/step - loss: 1.2499 - acc: 0.5579 - val_loss: 1.2465 - val_acc: 0.5570\n",
      "\n",
      "Epoch 00003: val_acc improved from 0.53430 to 0.55700, saving model to ./cifar10_lexnet_model.hdf5\n",
      "Epoch 4/100\n",
      "50000/50000 [==============================] - 3s 52us/step - loss: 1.1785 - acc: 0.5840 - val_loss: 1.1925 - val_acc: 0.5735\n",
      "\n",
      "Epoch 00004: val_acc improved from 0.55700 to 0.57350, saving model to ./cifar10_lexnet_model.hdf5\n",
      "Epoch 5/100\n",
      "50000/50000 [==============================] - 2s 48us/step - loss: 1.1223 - acc: 0.6043 - val_loss: 1.1817 - val_acc: 0.5887\n",
      "\n",
      "Epoch 00005: val_acc improved from 0.57350 to 0.58870, saving model to ./cifar10_lexnet_model.hdf5\n",
      "Epoch 6/100\n",
      "50000/50000 [==============================] - 2s 48us/step - loss: 1.0768 - acc: 0.6200 - val_loss: 1.1241 - val_acc: 0.6054\n",
      "\n",
      "Epoch 00006: val_acc improved from 0.58870 to 0.60540, saving model to ./cifar10_lexnet_model.hdf5\n",
      "Epoch 7/100\n",
      "50000/50000 [==============================] - 2s 49us/step - loss: 1.0377 - acc: 0.6344 - val_loss: 1.1260 - val_acc: 0.6094\n",
      "\n",
      "Epoch 00007: val_acc improved from 0.60540 to 0.60940, saving model to ./cifar10_lexnet_model.hdf5\n",
      "Epoch 8/100\n",
      "50000/50000 [==============================] - 2s 49us/step - loss: 0.9961 - acc: 0.6503 - val_loss: 1.1194 - val_acc: 0.6086\n",
      "\n",
      "Epoch 00008: val_acc did not improve\n",
      "Epoch 9/100\n",
      "50000/50000 [==============================] - 2s 48us/step - loss: 0.9624 - acc: 0.6618 - val_loss: 1.1135 - val_acc: 0.6117\n",
      "\n",
      "Epoch 00009: val_acc improved from 0.60940 to 0.61170, saving model to ./cifar10_lexnet_model.hdf5\n",
      "Epoch 10/100\n",
      "50000/50000 [==============================] - 2s 50us/step - loss: 0.9363 - acc: 0.6722 - val_loss: 1.1000 - val_acc: 0.6154\n",
      "\n",
      "Epoch 00010: val_acc improved from 0.61170 to 0.61540, saving model to ./cifar10_lexnet_model.hdf5\n",
      "Epoch 11/100\n",
      "50000/50000 [==============================] - 2s 48us/step - loss: 0.9023 - acc: 0.6837 - val_loss: 1.0734 - val_acc: 0.6315\n",
      "\n",
      "Epoch 00011: val_acc improved from 0.61540 to 0.63150, saving model to ./cifar10_lexnet_model.hdf5\n",
      "Epoch 12/100\n",
      "50000/50000 [==============================] - 2s 48us/step - loss: 0.8745 - acc: 0.6951 - val_loss: 1.0807 - val_acc: 0.6272\n",
      "\n",
      "Epoch 00012: val_acc did not improve\n",
      "Epoch 13/100\n",
      "50000/50000 [==============================] - 2s 49us/step - loss: 0.8472 - acc: 0.7034 - val_loss: 1.0781 - val_acc: 0.6258\n",
      "\n",
      "Epoch 00013: val_acc did not improve\n",
      "Epoch 00013: early stopping\n"
     ]
    }
   ],
   "source": [
    "alexnet_model=lexnet(INPUT_SHAPE,NUM_CLASS,BATCHSIZE,EPOCHS)"
   ]
  },
  {
   "cell_type": "code",
   "execution_count": 12,
   "metadata": {},
   "outputs": [
    {
     "name": "stdout",
     "output_type": "stream",
     "text": [
      "10000/10000 [==============================] - 1s 64us/step\n",
      "alexnet_model的评估结果是\n",
      "Total loss on Testing Set: 1.0734142539024354\n",
      "Accuracy of Testing Set: 0.6315\n"
     ]
    }
   ],
   "source": [
    "score=alexnet_model.evaluate(X_test,y_test)\n",
    "print('alexnet_model的评估结果是')\n",
    "print(\"Total loss on Testing Set:\", score[0])\n",
    "print(\"Accuracy of Testing Set:\", score[1])"
   ]
  },
  {
   "cell_type": "markdown",
   "metadata": {},
   "source": [
    "## 接下来训练vgg网络\n",
    "因为vgg网络要求输入不要太小，所以我们需要把输入数据resize成64,64,3"
   ]
  },
  {
   "cell_type": "code",
   "execution_count": 13,
   "metadata": {
    "collapsed": true
   },
   "outputs": [],
   "source": [
    "from keras.applications.vgg19 import VGG19\n",
    "import numpy as np\n",
    "import cv2"
   ]
  },
  {
   "cell_type": "code",
   "execution_count": 14,
   "metadata": {
    "collapsed": true
   },
   "outputs": [],
   "source": [
    "X_train_vgg=[cv2.resize(img,(64,64)) for img in X_train]\n",
    "X_train_vgg=np.array(X_train_vgg)\n",
    "X_test_vgg=[cv2.resize(img,(64,64)) for img in X_test]\n",
    "X_test_vgg=np.array(X_test_vgg)"
   ]
  },
  {
   "cell_type": "code",
   "execution_count": 15,
   "metadata": {
    "collapsed": true
   },
   "outputs": [],
   "source": [
    "def vgg19net(input_shape,num_class,batchsize,epochs,savepath=SAVEPATH+'cifar10_vgg_model.hdf5'):\n",
    "    model_vgg19=VGG19(include_top=False,weights='imagenet',input_shape=(64,64,3))\n",
    "    model=Flatten(name='flatten')(model_vgg19.output)\n",
    "    model=Dense(10,activation='softmax')(model)\n",
    "    model_vgg19_clair=Model(model_vgg19.input,model,name='vgg19')\n",
    "    #定义一下优化的方法\n",
    "    opt = keras.optimizers.Adam(lr=0.001, beta_1=0.9, beta_2=0.999, epsilon=1e-08)\n",
    "    #compile一下模型\n",
    "    model_vgg19_clair.compile(loss='categorical_crossentropy',optimizer=opt,metrics=['accuracy'])  \n",
    "    #train model\n",
    "    earlyStopping=kcallbacks.EarlyStopping(monitor='val_acc', patience=2, verbose=1, mode='auto')\n",
    "    saveBestModel = kcallbacks.ModelCheckpoint(filepath=savepath, monitor='val_acc', verbose=1, save_best_only=True, mode='auto')\n",
    "    model_vgg19_clair.fit(X_train_vgg,y_train,batch_size=batchsize,epochs=epochs,verbose=1,\n",
    "              validation_data=(X_test_vgg,y_test),shuffle=True,callbacks=[earlyStopping,saveBestModel])\n",
    "    #reload model\n",
    "    vgg19_clair_model=load_model(savepath)\n",
    "    return vgg19_clair_model"
   ]
  },
  {
   "cell_type": "code",
   "execution_count": 16,
   "metadata": {
    "scrolled": true
   },
   "outputs": [
    {
     "name": "stdout",
     "output_type": "stream",
     "text": [
      "Train on 50000 samples, validate on 10000 samples\n",
      "Epoch 1/100\n",
      "50000/50000 [==============================] - 76s 2ms/step - loss: 2.0941 - acc: 0.1859 - val_loss: 1.7908 - val_acc: 0.2843\n",
      "\n",
      "Epoch 00001: val_acc improved from -inf to 0.28430, saving model to ./cifar10_vgg_model.hdf5\n",
      "Epoch 2/100\n",
      "50000/50000 [==============================] - 75s 2ms/step - loss: 1.6751 - acc: 0.3522 - val_loss: 1.4098 - val_acc: 0.4645\n",
      "\n",
      "Epoch 00002: val_acc improved from 0.28430 to 0.46450, saving model to ./cifar10_vgg_model.hdf5\n",
      "Epoch 3/100\n",
      "50000/50000 [==============================] - 79s 2ms/step - loss: 1.3100 - acc: 0.5158 - val_loss: 1.1945 - val_acc: 0.5570\n",
      "\n",
      "Epoch 00003: val_acc improved from 0.46450 to 0.55700, saving model to ./cifar10_vgg_model.hdf5\n",
      "Epoch 4/100\n",
      "50000/50000 [==============================] - 77s 2ms/step - loss: 1.0722 - acc: 0.6087 - val_loss: 0.9738 - val_acc: 0.6488\n",
      "\n",
      "Epoch 00004: val_acc improved from 0.55700 to 0.64880, saving model to ./cifar10_vgg_model.hdf5\n",
      "Epoch 5/100\n",
      "50000/50000 [==============================] - 76s 2ms/step - loss: 0.9068 - acc: 0.6720 - val_loss: 0.9213 - val_acc: 0.6789\n",
      "\n",
      "Epoch 00005: val_acc improved from 0.64880 to 0.67890, saving model to ./cifar10_vgg_model.hdf5\n",
      "Epoch 6/100\n",
      "50000/50000 [==============================] - 77s 2ms/step - loss: 0.7931 - acc: 0.7186 - val_loss: 0.8615 - val_acc: 0.7034\n",
      "\n",
      "Epoch 00006: val_acc improved from 0.67890 to 0.70340, saving model to ./cifar10_vgg_model.hdf5\n",
      "Epoch 7/100\n",
      "50000/50000 [==============================] - 76s 2ms/step - loss: 0.7079 - acc: 0.7510 - val_loss: 0.7680 - val_acc: 0.7348\n",
      "\n",
      "Epoch 00007: val_acc improved from 0.70340 to 0.73480, saving model to ./cifar10_vgg_model.hdf5\n",
      "Epoch 8/100\n",
      "50000/50000 [==============================] - 76s 2ms/step - loss: 0.6335 - acc: 0.7797 - val_loss: 0.7195 - val_acc: 0.7553\n",
      "\n",
      "Epoch 00008: val_acc improved from 0.73480 to 0.75530, saving model to ./cifar10_vgg_model.hdf5\n",
      "Epoch 9/100\n",
      "50000/50000 [==============================] - 76s 2ms/step - loss: 0.5677 - acc: 0.8031 - val_loss: 0.6928 - val_acc: 0.7680\n",
      "\n",
      "Epoch 00009: val_acc improved from 0.75530 to 0.76800, saving model to ./cifar10_vgg_model.hdf5\n",
      "Epoch 10/100\n",
      "50000/50000 [==============================] - 76s 2ms/step - loss: 0.5127 - acc: 0.8241 - val_loss: 0.6778 - val_acc: 0.7712\n",
      "\n",
      "Epoch 00010: val_acc improved from 0.76800 to 0.77120, saving model to ./cifar10_vgg_model.hdf5\n",
      "Epoch 11/100\n",
      "50000/50000 [==============================] - 76s 2ms/step - loss: 0.4507 - acc: 0.8452 - val_loss: 0.6950 - val_acc: 0.7760\n",
      "\n",
      "Epoch 00011: val_acc improved from 0.77120 to 0.77600, saving model to ./cifar10_vgg_model.hdf5\n",
      "Epoch 12/100\n",
      "50000/50000 [==============================] - 76s 2ms/step - loss: 0.4165 - acc: 0.8572 - val_loss: 0.6736 - val_acc: 0.7796\n",
      "\n",
      "Epoch 00012: val_acc improved from 0.77600 to 0.77960, saving model to ./cifar10_vgg_model.hdf5\n",
      "Epoch 13/100\n",
      "50000/50000 [==============================] - 76s 2ms/step - loss: 0.3801 - acc: 0.8698 - val_loss: 0.6553 - val_acc: 0.7887\n",
      "\n",
      "Epoch 00013: val_acc improved from 0.77960 to 0.78870, saving model to ./cifar10_vgg_model.hdf5\n",
      "Epoch 14/100\n",
      "50000/50000 [==============================] - 76s 2ms/step - loss: 0.3410 - acc: 0.8836 - val_loss: 0.6558 - val_acc: 0.7893\n",
      "\n",
      "Epoch 00014: val_acc improved from 0.78870 to 0.78930, saving model to ./cifar10_vgg_model.hdf5\n",
      "Epoch 15/100\n",
      "50000/50000 [==============================] - 76s 2ms/step - loss: 0.3266 - acc: 0.8884 - val_loss: 0.6661 - val_acc: 0.7940\n",
      "\n",
      "Epoch 00015: val_acc improved from 0.78930 to 0.79400, saving model to ./cifar10_vgg_model.hdf5\n",
      "Epoch 16/100\n",
      "50000/50000 [==============================] - 76s 2ms/step - loss: 0.2856 - acc: 0.9024 - val_loss: 0.6672 - val_acc: 0.7928\n",
      "\n",
      "Epoch 00016: val_acc did not improve\n",
      "Epoch 17/100\n",
      "50000/50000 [==============================] - 76s 2ms/step - loss: 0.2630 - acc: 0.9113 - val_loss: 0.7076 - val_acc: 0.7924\n",
      "\n",
      "Epoch 00017: val_acc did not improve\n",
      "Epoch 00017: early stopping\n"
     ]
    }
   ],
   "source": [
    "vgg_model=vgg19net((64,64,3),NUM_CLASS,BATCHSIZE,EPOCHS)"
   ]
  },
  {
   "cell_type": "code",
   "execution_count": 17,
   "metadata": {},
   "outputs": [
    {
     "name": "stdout",
     "output_type": "stream",
     "text": [
      "10000/10000 [==============================] - 7s 707us/step\n",
      "vgg_model的评估结果是\n",
      "Total loss on Testing Set: 0.6523544511795044\n",
      "Accuracy of Testing Set: 0.8042\n"
     ]
    }
   ],
   "source": [
    "score=vgg_model.evaluate(X_test_vgg,y_test)\n",
    "print('vgg_model的评估结果是')\n",
    "print(\"Total loss on Testing Set:\", score[0])\n",
    "print(\"Accuracy of Testing Set:\", score[1])"
   ]
  },
  {
   "cell_type": "markdown",
   "metadata": {},
   "source": [
    "## 接下来是google的inceptionv3\n",
    "输入采取的是139,139,3"
   ]
  },
  {
   "cell_type": "code",
   "execution_count": 18,
   "metadata": {
    "collapsed": true
   },
   "outputs": [],
   "source": [
    "from keras.applications.inception_v3 import InceptionV3\n",
    "import numpy as np\n",
    "X_train_inception=[cv2.resize(img,(139,139)) for img in X_train]\n",
    "X_train_inception=np.array(X_train_inception)\n",
    "X_test_inception=[cv2.resize(img,(139,139)) for img in X_test]\n",
    "X_test_inception=np.array(X_test_inception)"
   ]
  },
  {
   "cell_type": "code",
   "execution_count": 19,
   "metadata": {},
   "outputs": [
    {
     "name": "stdout",
     "output_type": "stream",
     "text": [
      "(50000, 139, 139, 3)\n"
     ]
    }
   ],
   "source": [
    "print(X_train_inception.shape)"
   ]
  },
  {
   "cell_type": "code",
   "execution_count": 20,
   "metadata": {
    "collapsed": true
   },
   "outputs": [],
   "source": [
    "def inceptionv3(input_shape,num_class,batchsize,epochs,savepath=SAVEPATH+'inceptionv3.hdf5'):\n",
    "    base_model=InceptionV3(include_top=False,weights='imagenet',input_shape=input_shape)\n",
    "    # add a global spatial average pooling layer\n",
    "    x = base_model.output\n",
    "    x = GlobalAveragePooling2D()(x)\n",
    "    # let's add a fully-connected layer\n",
    "    x = Dense(1024, activation='relu')(x)\n",
    "    # and a logistic layer -- let's say we have 10classes\n",
    "    predictions = Dense(num_class, activation='softmax')(x)\n",
    "    model=Model(base_model.input,predictions,name='inceptionv3')\n",
    "    #定义一下优化的方法\n",
    "    opt = keras.optimizers.Adam(lr=0.001, beta_1=0.9, beta_2=0.999, epsilon=1e-08)\n",
    "    #compile一下模型\n",
    "    model.compile(loss='categorical_crossentropy',optimizer=opt,metrics=['accuracy'])  \n",
    "    #train model\n",
    "    earlyStopping=kcallbacks.EarlyStopping(monitor='val_acc', patience=2, verbose=1, mode='auto')\n",
    "    saveBestModel = kcallbacks.ModelCheckpoint(filepath=savepath, monitor='val_acc', verbose=1, save_best_only=True, mode='auto')\n",
    "    model.fit(X_train_inception,y_train,batch_size=batchsize,epochs=epochs,verbose=1,\n",
    "              validation_data=(X_test_inception,y_test),shuffle=True,callbacks=[earlyStopping,saveBestModel])\n",
    "    #reload model\n",
    "    model=load_model(savepath)\n",
    "    return model"
   ]
  },
  {
   "cell_type": "code",
   "execution_count": 21,
   "metadata": {
    "scrolled": true
   },
   "outputs": [
    {
     "name": "stdout",
     "output_type": "stream",
     "text": [
      "Train on 50000 samples, validate on 10000 samples\n",
      "Epoch 1/100\n",
      "50000/50000 [==============================] - 172s 3ms/step - loss: 0.5765 - acc: 0.8111 - val_loss: 1.1327 - val_acc: 0.6781\n",
      "\n",
      "Epoch 00001: val_acc improved from -inf to 0.67810, saving model to ./inceptionv3.hdf5\n",
      "Epoch 2/100\n",
      "50000/50000 [==============================] - 173s 3ms/step - loss: 0.2956 - acc: 0.9027 - val_loss: 1.2048 - val_acc: 0.6762\n",
      "\n",
      "Epoch 00002: val_acc did not improve\n",
      "Epoch 3/100\n",
      "50000/50000 [==============================] - 173s 3ms/step - loss: 0.2145 - acc: 0.9283 - val_loss: 0.4737 - val_acc: 0.8514\n",
      "\n",
      "Epoch 00003: val_acc improved from 0.67810 to 0.85140, saving model to ./inceptionv3.hdf5\n",
      "Epoch 4/100\n",
      "50000/50000 [==============================] - 173s 3ms/step - loss: 0.1634 - acc: 0.9457 - val_loss: 0.4037 - val_acc: 0.8751\n",
      "\n",
      "Epoch 00004: val_acc improved from 0.85140 to 0.87510, saving model to ./inceptionv3.hdf5\n",
      "Epoch 5/100\n",
      "50000/50000 [==============================] - 173s 3ms/step - loss: 0.1314 - acc: 0.9561 - val_loss: 0.5581 - val_acc: 0.8434\n",
      "\n",
      "Epoch 00005: val_acc did not improve\n",
      "Epoch 6/100\n",
      "50000/50000 [==============================] - 173s 3ms/step - loss: 0.1132 - acc: 0.9615 - val_loss: 0.5369 - val_acc: 0.8494\n",
      "\n",
      "Epoch 00006: val_acc did not improve\n",
      "Epoch 00006: early stopping\n"
     ]
    }
   ],
   "source": [
    "inceptionv3_model=inceptionv3((139,139,3),NUM_CLASS,BATCHSIZE,EPOCHS)"
   ]
  },
  {
   "cell_type": "code",
   "execution_count": 22,
   "metadata": {},
   "outputs": [
    {
     "name": "stdout",
     "output_type": "stream",
     "text": [
      "10000/10000 [==============================] - 17s 2ms/step\n",
      "inceptionv3_model的评估结果是\n",
      "Total loss on Testing Set: 0.4036563428163528\n",
      "Accuracy of Testing Set: 0.8751\n"
     ]
    }
   ],
   "source": [
    "score=inceptionv3_model.evaluate(X_test_inception,y_test)\n",
    "print('inceptionv3_model的评估结果是')\n",
    "print(\"Total loss on Testing Set:\", score[0])\n",
    "print(\"Accuracy of Testing Set:\", score[1])"
   ]
  },
  {
   "cell_type": "code",
   "execution_count": null,
   "metadata": {
    "collapsed": true
   },
   "outputs": [],
   "source": []
  },
  {
   "cell_type": "code",
   "execution_count": null,
   "metadata": {
    "collapsed": true
   },
   "outputs": [],
   "source": []
  }
 ],
 "metadata": {
  "kernelspec": {
   "display_name": "Python 3",
   "language": "python",
   "name": "python3"
  },
  "language_info": {
   "codemirror_mode": {
    "name": "ipython",
    "version": 3
   },
   "file_extension": ".py",
   "mimetype": "text/x-python",
   "name": "python",
   "nbconvert_exporter": "python",
   "pygments_lexer": "ipython3",
   "version": "3.5.2"
  }
 },
 "nbformat": 4,
 "nbformat_minor": 2
}
